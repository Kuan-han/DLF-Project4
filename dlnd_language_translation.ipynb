{
 "cells": [
  {
   "cell_type": "markdown",
   "metadata": {
    "collapsed": true
   },
   "source": [
    "# Language Translation\n",
    "In this project, you’re going to take a peek into the realm of neural network machine translation.  You’ll be training a sequence to sequence model on a dataset of English and French sentences that can translate new sentences from English to French.\n",
    "## Get the Data\n",
    "Since translating the whole language of English to French will take lots of time to train, we have provided you with a small portion of the English corpus."
   ]
  },
  {
   "cell_type": "code",
   "execution_count": 1,
   "metadata": {},
   "outputs": [],
   "source": [
    "\"\"\"\n",
    "DON'T MODIFY ANYTHING IN THIS CELL\n",
    "\"\"\"\n",
    "import helper\n",
    "import problem_unittests as tests\n",
    "\n",
    "source_path = 'data/small_vocab_en'\n",
    "target_path = 'data/small_vocab_fr'\n",
    "source_text = helper.load_data(source_path)\n",
    "target_text = helper.load_data(target_path)"
   ]
  },
  {
   "cell_type": "markdown",
   "metadata": {},
   "source": [
    "## Explore the Data\n",
    "Play around with view_sentence_range to view different parts of the data."
   ]
  },
  {
   "cell_type": "code",
   "execution_count": 2,
   "metadata": {},
   "outputs": [
    {
     "name": "stdout",
     "output_type": "stream",
     "text": [
      "Dataset Stats\n",
      "Roughly the number of unique words: 227\n",
      "Number of sentences: 137861\n",
      "Average number of words in a sentence: 13.225277634719028\n",
      "\n",
      "English sentences 0 to 10:\n",
      "new jersey is sometimes quiet during autumn , and it is snowy in april .\n",
      "the united states is usually chilly during july , and it is usually freezing in november .\n",
      "california is usually quiet during march , and it is usually hot in june .\n",
      "the united states is sometimes mild during june , and it is cold in september .\n",
      "your least liked fruit is the grape , but my least liked is the apple .\n",
      "his favorite fruit is the orange , but my favorite is the grape .\n",
      "paris is relaxing during december , but it is usually chilly in july .\n",
      "new jersey is busy during spring , and it is never hot in march .\n",
      "our least liked fruit is the lemon , but my least liked is the grape .\n",
      "the united states is sometimes busy during january , and it is sometimes warm in november .\n",
      "\n",
      "French sentences 0 to 10:\n",
      "new jersey est parfois calme pendant l' automne , et il est neigeux en avril .\n",
      "les états-unis est généralement froid en juillet , et il gèle habituellement en novembre .\n",
      "california est généralement calme en mars , et il est généralement chaud en juin .\n",
      "les états-unis est parfois légère en juin , et il fait froid en septembre .\n",
      "votre moins aimé fruit est le raisin , mais mon moins aimé est la pomme .\n",
      "son fruit préféré est l'orange , mais mon préféré est le raisin .\n",
      "paris est relaxant en décembre , mais il est généralement froid en juillet .\n",
      "new jersey est occupé au printemps , et il est jamais chaude en mars .\n",
      "notre fruit est moins aimé le citron , mais mon moins aimé est le raisin .\n",
      "les états-unis est parfois occupé en janvier , et il est parfois chaud en novembre .\n"
     ]
    }
   ],
   "source": [
    "view_sentence_range = (0, 10)\n",
    "\n",
    "\"\"\"\n",
    "DON'T MODIFY ANYTHING IN THIS CELL\n",
    "\"\"\"\n",
    "import numpy as np\n",
    "\n",
    "print('Dataset Stats')\n",
    "print('Roughly the number of unique words: {}'.format(len({word: None for word in source_text.split()})))\n",
    "\n",
    "sentences = source_text.split('\\n')\n",
    "word_counts = [len(sentence.split()) for sentence in sentences]\n",
    "print('Number of sentences: {}'.format(len(sentences)))\n",
    "print('Average number of words in a sentence: {}'.format(np.average(word_counts)))\n",
    "\n",
    "print()\n",
    "print('English sentences {} to {}:'.format(*view_sentence_range))\n",
    "print('\\n'.join(source_text.split('\\n')[view_sentence_range[0]:view_sentence_range[1]]))\n",
    "print()\n",
    "print('French sentences {} to {}:'.format(*view_sentence_range))\n",
    "print('\\n'.join(target_text.split('\\n')[view_sentence_range[0]:view_sentence_range[1]]))"
   ]
  },
  {
   "cell_type": "markdown",
   "metadata": {},
   "source": [
    "## Implement Preprocessing Function\n",
    "### Text to Word Ids\n",
    "As you did with other RNNs, you must turn the text into a number so the computer can understand it. In the function `text_to_ids()`, you'll turn `source_text` and `target_text` from words to ids.  However, you need to add the `<EOS>` word id at the end of `target_text`.  This will help the neural network predict when the sentence should end.\n",
    "\n",
    "You can get the `<EOS>` word id by doing:\n",
    "```python\n",
    "target_vocab_to_int['<EOS>']\n",
    "```\n",
    "You can get other word ids using `source_vocab_to_int` and `target_vocab_to_int`."
   ]
  },
  {
   "cell_type": "code",
   "execution_count": 3,
   "metadata": {},
   "outputs": [
    {
     "name": "stdout",
     "output_type": "stream",
     "text": [
      "Tests Passed\n"
     ]
    }
   ],
   "source": [
    "def text_to_ids(source_text, target_text, source_vocab_to_int, target_vocab_to_int):\n",
    "    \"\"\"\n",
    "    Convert source and target text to proper word ids\n",
    "    :param source_text: String that contains all the source text.\n",
    "    :param target_text: String that contains all the target text.\n",
    "    :param source_vocab_to_int: Dictionary to go from the source words to an id\n",
    "    :param target_vocab_to_int: Dictionary to go from the target words to an id\n",
    "    :return: A tuple of lists (source_id_text, target_id_text)\n",
    "    \"\"\"\n",
    "    # TODO: Implement Function\n",
    "    special_word = target_vocab_to_int['<EOS>']\n",
    "    source = [[source_vocab_to_int[word] for word in sentence.split()] for sentence in source_text.split('\\n')]\n",
    "    target = [[target_vocab_to_int[word] for word in sentence.split()] +[special_word] for sentence in target_text.split('\\n')]\n",
    "    return source, target\n",
    "\n",
    "\"\"\"\n",
    "DON'T MODIFY ANYTHING IN THIS CELL THAT IS BELOW THIS LINE\n",
    "\"\"\"\n",
    "tests.test_text_to_ids(text_to_ids)"
   ]
  },
  {
   "cell_type": "markdown",
   "metadata": {},
   "source": [
    "### Preprocess all the data and save it\n",
    "Running the code cell below will preprocess all the data and save it to file."
   ]
  },
  {
   "cell_type": "code",
   "execution_count": 4,
   "metadata": {
    "collapsed": true
   },
   "outputs": [],
   "source": [
    "\"\"\"\n",
    "DON'T MODIFY ANYTHING IN THIS CELL\n",
    "\"\"\"\n",
    "helper.preprocess_and_save_data(source_path, target_path, text_to_ids)"
   ]
  },
  {
   "cell_type": "markdown",
   "metadata": {},
   "source": [
    "# Check Point\n",
    "This is your first checkpoint. If you ever decide to come back to this notebook or have to restart the notebook, you can start from here. The preprocessed data has been saved to disk."
   ]
  },
  {
   "cell_type": "code",
   "execution_count": 5,
   "metadata": {
    "collapsed": true
   },
   "outputs": [],
   "source": [
    "\"\"\"\n",
    "DON'T MODIFY ANYTHING IN THIS CELL\n",
    "\"\"\"\n",
    "import numpy as np\n",
    "import helper\n",
    "import problem_unittests as tests\n",
    "\n",
    "(source_int_text, target_int_text), (source_vocab_to_int, target_vocab_to_int), _ = helper.load_preprocess()"
   ]
  },
  {
   "cell_type": "markdown",
   "metadata": {},
   "source": [
    "### Check the Version of TensorFlow and Access to GPU\n",
    "This will check to make sure you have the correct version of TensorFlow and access to a GPU"
   ]
  },
  {
   "cell_type": "code",
   "execution_count": 6,
   "metadata": {},
   "outputs": [
    {
     "name": "stdout",
     "output_type": "stream",
     "text": [
      "TensorFlow Version: 1.4.0\n",
      "Default GPU Device: /device:GPU:0\n"
     ]
    }
   ],
   "source": [
    "\"\"\"\n",
    "DON'T MODIFY ANYTHING IN THIS CELL\n",
    "\"\"\"\n",
    "from distutils.version import LooseVersion\n",
    "import warnings\n",
    "import tensorflow as tf\n",
    "from tensorflow.python.layers.core import Dense\n",
    "\n",
    "# Check TensorFlow Version\n",
    "assert LooseVersion(tf.__version__) >= LooseVersion('1.1'), 'Please use TensorFlow version 1.1 or newer'\n",
    "print('TensorFlow Version: {}'.format(tf.__version__))\n",
    "\n",
    "# Check for a GPU\n",
    "if not tf.test.gpu_device_name():\n",
    "    warnings.warn('No GPU found. Please use a GPU to train your neural network.')\n",
    "else:\n",
    "    print('Default GPU Device: {}'.format(tf.test.gpu_device_name()))"
   ]
  },
  {
   "cell_type": "markdown",
   "metadata": {},
   "source": [
    "## Build the Neural Network\n",
    "You'll build the components necessary to build a Sequence-to-Sequence model by implementing the following functions below:\n",
    "- `model_inputs`\n",
    "- `process_decoder_input`\n",
    "- `encoding_layer`\n",
    "- `decoding_layer_train`\n",
    "- `decoding_layer_infer`\n",
    "- `decoding_layer`\n",
    "- `seq2seq_model`\n",
    "\n",
    "### Input\n",
    "Implement the `model_inputs()` function to create TF Placeholders for the Neural Network. It should create the following placeholders:\n",
    "\n",
    "- Input text placeholder named \"input\" using the TF Placeholder name parameter with rank 2.\n",
    "- Targets placeholder with rank 2.\n",
    "- Learning rate placeholder with rank 0.\n",
    "- Keep probability placeholder named \"keep_prob\" using the TF Placeholder name parameter with rank 0.\n",
    "- Target sequence length placeholder named \"target_sequence_length\" with rank 1\n",
    "- Max target sequence length tensor named \"max_target_len\" getting its value from applying tf.reduce_max on the target_sequence_length placeholder. Rank 0.\n",
    "- Source sequence length placeholder named \"source_sequence_length\" with rank 1\n",
    "\n",
    "Return the placeholders in the following the tuple (input, targets, learning rate, keep probability, target sequence length, max target sequence length, source sequence length)"
   ]
  },
  {
   "cell_type": "code",
   "execution_count": 7,
   "metadata": {},
   "outputs": [
    {
     "name": "stdout",
     "output_type": "stream",
     "text": [
      "Tests Passed\n"
     ]
    }
   ],
   "source": [
    "def model_inputs():\n",
    "    \"\"\"\n",
    "    Create TF Placeholders for input, targets, learning rate, and lengths of source and target sequences.\n",
    "    :return: Tuple (input, targets, learning rate, keep probability, target sequence length,\n",
    "    max target sequence length, source sequence length)\n",
    "    \"\"\"\n",
    "    # TODO: Implement Function\n",
    "    input = tf.placeholder(tf.int32, shape=[None,None],name='input')\n",
    "    targets = tf.placeholder(tf.int32, shape=[None,None],name='targets')\n",
    "    learning_rate = tf.placeholder(tf.float32, shape=[],name='learning_rate')\n",
    "    keep_prob = tf.placeholder(tf.float32, shape=[], name='keep_prob')\n",
    "    target_sequence_length = tf.placeholder(tf.int32, shape=[None], name='target_sequence_length')\n",
    "    max_target_len = tf.reduce_max(target_sequence_length, name='max_target_len')\n",
    "    source_sequence_length = tf.placeholder(tf.int32, shape=[None], name='source_sequence_length')\n",
    "    return input, targets, learning_rate, keep_prob, target_sequence_length, max_target_len, source_sequence_length\n",
    "\n",
    "\n",
    "\"\"\"\n",
    "DON'T MODIFY ANYTHING IN THIS CELL THAT IS BELOW THIS LINE\n",
    "\"\"\"\n",
    "tests.test_model_inputs(model_inputs)"
   ]
  },
  {
   "cell_type": "markdown",
   "metadata": {},
   "source": [
    "### Process Decoder Input\n",
    "Implement `process_decoder_input` by removing the last word id from each batch in `target_data` and concat the GO ID to the begining of each batch."
   ]
  },
  {
   "cell_type": "code",
   "execution_count": 8,
   "metadata": {},
   "outputs": [
    {
     "name": "stdout",
     "output_type": "stream",
     "text": [
      "Tests Passed\n"
     ]
    }
   ],
   "source": [
    "def process_decoder_input(target_data, target_vocab_to_int, batch_size):\n",
    "    \"\"\"\n",
    "    Preprocess target data for encoding\n",
    "    :param target_data: Target Placehoder\n",
    "    :param target_vocab_to_int: Dictionary to go from the target words to an id\n",
    "    :param batch_size: Batch Size\n",
    "    :return: Preprocessed target data\n",
    "    \"\"\"\n",
    "    # TODO: Implement Function\n",
    "    ending = tf.strided_slice(target_data, [0, 0], [batch_size, -1], [1, 1])\n",
    "    dec_input = tf.concat([tf.fill([batch_size, 1], target_vocab_to_int['<GO>']), ending], 1)\n",
    "    return dec_input\n",
    "\n",
    "\"\"\"\n",
    "DON'T MODIFY ANYTHING IN THIS CELL THAT IS BELOW THIS LINE\n",
    "\"\"\"\n",
    "tests.test_process_encoding_input(process_decoder_input)"
   ]
  },
  {
   "cell_type": "markdown",
   "metadata": {},
   "source": [
    "### Encoding\n",
    "Implement `encoding_layer()` to create a Encoder RNN layer:\n",
    " * Embed the encoder input using [`tf.contrib.layers.embed_sequence`](https://www.tensorflow.org/api_docs/python/tf/contrib/layers/embed_sequence)\n",
    " * Construct a [stacked](https://github.com/tensorflow/tensorflow/blob/6947f65a374ebf29e74bb71e36fd82760056d82c/tensorflow/docs_src/tutorials/recurrent.md#stacking-multiple-lstms) [`tf.contrib.rnn.LSTMCell`](https://www.tensorflow.org/api_docs/python/tf/contrib/rnn/LSTMCell) wrapped in a [`tf.contrib.rnn.DropoutWrapper`](https://www.tensorflow.org/api_docs/python/tf/contrib/rnn/DropoutWrapper)\n",
    " * Pass cell and embedded input to [`tf.nn.dynamic_rnn()`](https://www.tensorflow.org/api_docs/python/tf/nn/dynamic_rnn)"
   ]
  },
  {
   "cell_type": "code",
   "execution_count": 9,
   "metadata": {
    "scrolled": false
   },
   "outputs": [
    {
     "name": "stdout",
     "output_type": "stream",
     "text": [
      "Tests Passed\n"
     ]
    }
   ],
   "source": [
    "from imp import reload\n",
    "reload(tests)\n",
    "\n",
    "def encoding_layer(rnn_inputs, rnn_size, num_layers, keep_prob, \n",
    "                   source_sequence_length, source_vocab_size, \n",
    "                   encoding_embedding_size):\n",
    "    \"\"\"\n",
    "    Create encoding layer\n",
    "    :param rnn_inputs: Inputs for the RNN\n",
    "    :param rnn_size: RNN Size\n",
    "    :param num_layers: Number of layers\n",
    "    :param keep_prob: Dropout keep probability\n",
    "    :param source_sequence_length: a list of the lengths of each sequence in the batch\n",
    "    :param source_vocab_size: vocabulary size of source data\n",
    "    :param encoding_embedding_size: embedding size of source data\n",
    "    :return: tuple (RNN output, RNN state)\n",
    "    \"\"\"\n",
    "    # TODO: Implement Function\n",
    "    enc_emb_input = tf.contrib.layers.embed_sequence(rnn_inputs, source_vocab_size, encoding_embedding_size)\n",
    "    \n",
    "    def make_cell(rnn_size):\n",
    "        enc_cell = tf.contrib.rnn.LSTMCell(rnn_size, initializer=tf.random_normal_initializer(-0.1, 0.1, seed=2))\n",
    "        return enc_cell\n",
    "    \n",
    "    enc_cell = tf.contrib.rnn.MultiRNNCell([make_cell(rnn_size) for _ in range(num_layers)])\n",
    "    \n",
    "    enc_output, enc_state = tf.nn.dynamic_rnn(enc_cell, enc_emb_input, sequence_length=source_sequence_length,dtype=tf.float32)\n",
    "    \n",
    "    return enc_output, enc_state\n",
    "\n",
    "\"\"\"\n",
    "DON'T MODIFY ANYTHING IN THIS CELL THAT IS BELOW THIS LINE\n",
    "\"\"\"\n",
    "tests.test_encoding_layer(encoding_layer)"
   ]
  },
  {
   "cell_type": "markdown",
   "metadata": {},
   "source": [
    "### Decoding - Training\n",
    "Create a training decoding layer:\n",
    "* Create a [`tf.contrib.seq2seq.TrainingHelper`](https://www.tensorflow.org/api_docs/python/tf/contrib/seq2seq/TrainingHelper) \n",
    "* Create a [`tf.contrib.seq2seq.BasicDecoder`](https://www.tensorflow.org/api_docs/python/tf/contrib/seq2seq/BasicDecoder)\n",
    "* Obtain the decoder outputs from [`tf.contrib.seq2seq.dynamic_decode`](https://www.tensorflow.org/api_docs/python/tf/contrib/seq2seq/dynamic_decode)"
   ]
  },
  {
   "cell_type": "code",
   "execution_count": 10,
   "metadata": {},
   "outputs": [
    {
     "name": "stdout",
     "output_type": "stream",
     "text": [
      "Tests Passed\n"
     ]
    }
   ],
   "source": [
    "\n",
    "def decoding_layer_train(encoder_state, dec_cell, dec_embed_input, \n",
    "                         target_sequence_length, max_summary_length, \n",
    "                         output_layer, keep_prob):\n",
    "    \"\"\"\n",
    "    Create a decoding layer for training\n",
    "    :param encoder_state: Encoder State\n",
    "    :param dec_cell: Decoder RNN Cell\n",
    "    :param dec_embed_input: Decoder embedded input\n",
    "    :param target_sequence_length: The lengths of each sequence in the target batch\n",
    "    :param max_summary_length: The length of the longest sequence in the batch\n",
    "    :param output_layer: Function to apply the output layer\n",
    "    :param keep_prob: Dropout keep probability\n",
    "    :return: BasicDecoderOutput containing training logits and sample_id\n",
    "    \"\"\"\n",
    "    # TODO: Implement Function\n",
    "    training_helper = tf.contrib.seq2seq.TrainingHelper(inputs=dec_embed_input, sequence_length=target_sequence_length,\n",
    "                                                       time_major=False)\n",
    "    training_decoder = tf.contrib.seq2seq.BasicDecoder(dec_cell, training_helper, encoder_state, output_layer)\n",
    "    \n",
    "    training_decoder_output = tf.contrib.seq2seq.dynamic_decode(training_decoder,impute_finished=True, \n",
    "                                                                maximum_iterations=max_summary_length)[0]\n",
    "    \n",
    "    \n",
    "    return training_decoder_output\n",
    "\n",
    "\n",
    "\n",
    "\"\"\"\n",
    "DON'T MODIFY ANYTHING IN THIS CELL THAT IS BELOW THIS LINE\n",
    "\"\"\"\n",
    "tests.test_decoding_layer_train(decoding_layer_train)"
   ]
  },
  {
   "cell_type": "markdown",
   "metadata": {},
   "source": [
    "### Decoding - Inference\n",
    "Create inference decoder:\n",
    "* Create a [`tf.contrib.seq2seq.GreedyEmbeddingHelper`](https://www.tensorflow.org/api_docs/python/tf/contrib/seq2seq/GreedyEmbeddingHelper)\n",
    "* Create a [`tf.contrib.seq2seq.BasicDecoder`](https://www.tensorflow.org/api_docs/python/tf/contrib/seq2seq/BasicDecoder)\n",
    "* Obtain the decoder outputs from [`tf.contrib.seq2seq.dynamic_decode`](https://www.tensorflow.org/api_docs/python/tf/contrib/seq2seq/dynamic_decode)"
   ]
  },
  {
   "cell_type": "code",
   "execution_count": 11,
   "metadata": {
    "scrolled": true
   },
   "outputs": [
    {
     "name": "stdout",
     "output_type": "stream",
     "text": [
      "Tests Passed\n"
     ]
    }
   ],
   "source": [
    "def decoding_layer_infer(encoder_state, dec_cell, dec_embeddings, start_of_sequence_id,\n",
    "                         end_of_sequence_id, max_target_sequence_length,\n",
    "                         vocab_size, output_layer, batch_size, keep_prob):\n",
    "    \"\"\"\n",
    "    Create a decoding layer for inference\n",
    "    :param encoder_state: Encoder state\n",
    "    :param dec_cell: Decoder RNN Cell\n",
    "    :param dec_embeddings: Decoder embeddings\n",
    "    :param start_of_sequence_id: GO ID\n",
    "    :param end_of_sequence_id: EOS Id\n",
    "    :param max_target_sequence_length: Maximum length of target sequences\n",
    "    :param vocab_size: Size of decoder/target vocabulary\n",
    "    :param decoding_scope: TenorFlow Variable Scope for decoding\n",
    "    :param output_layer: Function to apply the output layer\n",
    "    :param batch_size: Batch size\n",
    "    :param keep_prob: Dropout keep probability\n",
    "    :return: BasicDecoderOutput containing inference logits and sample_id\n",
    "    \"\"\"\n",
    "    # TODO: Implement Function\n",
    "    start_tokens = tf.tile(tf.constant([target_vocab_to_int['<GO>']], dtype=tf.int32), [batch_size], name='start_tokens')\n",
    "\n",
    "    \n",
    "    inference_helper = tf.contrib.seq2seq.GreedyEmbeddingHelper(dec_embeddings, start_tokens, target_vocab_to_int['<EOS>'])\n",
    "    \n",
    "    inference_dec = tf.contrib.seq2seq.BasicDecoder(dec_cell, inference_helper, encoder_state, output_layer)\n",
    "    \n",
    "    inference_dec_o = tf.contrib.seq2seq.dynamic_decode(inference_dec, impute_finished=True, \n",
    "                                                        maximum_iterations=max_target_sequence_length)[0]\n",
    "    \n",
    "    return inference_dec_o\n",
    "\n",
    "\n",
    "\n",
    "\"\"\"\n",
    "DON'T MODIFY ANYTHING IN THIS CELL THAT IS BELOW THIS LINE\n",
    "\"\"\"\n",
    "tests.test_decoding_layer_infer(decoding_layer_infer)"
   ]
  },
  {
   "cell_type": "markdown",
   "metadata": {},
   "source": [
    "### Build the Decoding Layer\n",
    "Implement `decoding_layer()` to create a Decoder RNN layer.\n",
    "\n",
    "* Embed the target sequences\n",
    "* Construct the decoder LSTM cell (just like you constructed the encoder cell above)\n",
    "* Create an output layer to map the outputs of the decoder to the elements of our vocabulary\n",
    "* Use the your `decoding_layer_train(encoder_state, dec_cell, dec_embed_input, target_sequence_length, max_target_sequence_length, output_layer, keep_prob)` function to get the training logits.\n",
    "* Use your `decoding_layer_infer(encoder_state, dec_cell, dec_embeddings, start_of_sequence_id, end_of_sequence_id, max_target_sequence_length, vocab_size, output_layer, batch_size, keep_prob)` function to get the inference logits.\n",
    "\n",
    "Note: You'll need to use [tf.variable_scope](https://www.tensorflow.org/api_docs/python/tf/variable_scope) to share variables between training and inference."
   ]
  },
  {
   "cell_type": "code",
   "execution_count": 12,
   "metadata": {},
   "outputs": [
    {
     "name": "stdout",
     "output_type": "stream",
     "text": [
      "Tests Passed\n"
     ]
    }
   ],
   "source": [
    "def decoding_layer(dec_input, encoder_state,\n",
    "                   target_sequence_length, max_target_sequence_length,\n",
    "                   rnn_size,\n",
    "                   num_layers, target_vocab_to_int, target_vocab_size,\n",
    "                   batch_size, keep_prob, decoding_embedding_size):\n",
    "    \"\"\"\n",
    "    Create decoding layer\n",
    "    :param dec_input: Decoder input\n",
    "    :param encoder_state: Encoder state\n",
    "    :param target_sequence_length: The lengths of each sequence in the target batch\n",
    "    :param max_target_sequence_length: Maximum length of target sequences\n",
    "    :param rnn_size: RNN Size\n",
    "    :param num_layers: Number of layers\n",
    "    :param target_vocab_to_int: Dictionary to go from the target words to an id\n",
    "    :param target_vocab_size: Size of target vocabulary\n",
    "    :param batch_size: The size of the batch\n",
    "    :param keep_prob: Dropout keep probability\n",
    "    :param decoding_embedding_size: Decoding embedding size\n",
    "    :return: Tuple of (Training BasicDecoderOutput, Inference BasicDecoderOutput)\n",
    "    \"\"\"\n",
    "    # TODO: Implement Function\n",
    "    #dec_emb_input = tf.contrib.layers.embed_sequence(rnn_inputs, source_vocab_size, encoding_embedding_size)\n",
    "    \n",
    "    \n",
    "    def make_cell(rnn_size):\n",
    "        dec_cell = tf.contrib.rnn.LSTMCell(rnn_size, initializer=tf.random_normal_initializer(-0.1, 0.1, seed=2))\n",
    "        return dec_cell\n",
    "    \n",
    "    dec_cell = tf.contrib.rnn.MultiRNNCell([make_cell(rnn_size) for _ in range(num_layers)])\n",
    "    \n",
    "    \n",
    "    dec_emb = tf.Variable(tf.random_uniform([target_vocab_size, decoding_embedding_size]))\n",
    "    dec_emb_inputs = tf.nn.embedding_lookup(dec_emb, dec_input)\n",
    "    \n",
    "    output_layer = Dense(target_vocab_size, kernel_initializer=tf.truncated_normal_initializer(mean=0.0,stddev=0.1))\n",
    "    start_of_sequence_id = target_vocab_to_int['<GO>']\n",
    "    end_of_sequence_id = target_vocab_to_int['<EOS>']\n",
    "    with tf.variable_scope(\"decode\"):\n",
    "        train_dec_out= decoding_layer_train( encoder_state,dec_cell,dec_emb_inputs,target_sequence_length,max_target_sequence_length,\n",
    "                                        output_layer,\n",
    "                                        keep_prob)\n",
    "\n",
    "            \n",
    "    with tf.variable_scope(\"decode\", reuse=True):\n",
    "        infer_dec_out = decoding_layer_infer(encoder_state,dec_cell, dec_emb, start_of_sequence_id,end_of_sequence_id,\n",
    "                                        max_target_sequence_length, target_vocab_size,output_layer,\n",
    "                                        batch_size,keep_prob)\n",
    "                                        \n",
    "    return train_dec_out, infer_dec_out\n",
    "   \n",
    "\n",
    "\"\"\"\n",
    "DON'T MODIFY ANYTHING IN THIS CELL THAT IS BELOW THIS LINE\n",
    "\"\"\"\n",
    "tests.test_decoding_layer(decoding_layer)"
   ]
  },
  {
   "cell_type": "markdown",
   "metadata": {},
   "source": [
    "### Build the Neural Network\n",
    "Apply the functions you implemented above to:\n",
    "\n",
    "- Encode the input using your `encoding_layer(rnn_inputs, rnn_size, num_layers, keep_prob,  source_sequence_length, source_vocab_size, encoding_embedding_size)`.\n",
    "- Process target data using your `process_decoder_input(target_data, target_vocab_to_int, batch_size)` function.\n",
    "- Decode the encoded input using your `decoding_layer(dec_input, enc_state, target_sequence_length, max_target_sentence_length, rnn_size, num_layers, target_vocab_to_int, target_vocab_size, batch_size, keep_prob, dec_embedding_size)` function."
   ]
  },
  {
   "cell_type": "code",
   "execution_count": 13,
   "metadata": {},
   "outputs": [
    {
     "name": "stdout",
     "output_type": "stream",
     "text": [
      "Tests Passed\n"
     ]
    }
   ],
   "source": [
    "def seq2seq_model(input_data, target_data, keep_prob, batch_size,\n",
    "                  source_sequence_length, target_sequence_length,\n",
    "                  max_target_sentence_length,\n",
    "                  source_vocab_size, target_vocab_size,\n",
    "                  enc_embedding_size, dec_embedding_size,\n",
    "                  rnn_size, num_layers, target_vocab_to_int):\n",
    "    \"\"\"\n",
    "    Build the Sequence-to-Sequence part of the neural network\n",
    "    :param input_data: Input placeholder\n",
    "    :param target_data: Target placeholder\n",
    "    :param keep_prob: Dropout keep probability placeholder\n",
    "    :param batch_size: Batch Size\n",
    "    :param source_sequence_length: Sequence Lengths of source sequences in the batch\n",
    "    :param target_sequence_length: Sequence Lengths of target sequences in the batch\n",
    "    :param source_vocab_size: Source vocabulary size\n",
    "    :param target_vocab_size: Target vocabulary size\n",
    "    :param enc_embedding_size: Decoder embedding size\n",
    "    :param dec_embedding_size: Encoder embedding size\n",
    "    :param rnn_size: RNN Size\n",
    "    :param num_layers: Number of layers\n",
    "    :param target_vocab_to_int: Dictionary to go from the target words to an id\n",
    "    :return: Tuple of (Training BasicDecoderOutput, Inference BasicDecoderOutput)\n",
    "    \"\"\"\n",
    "    # TODO: Implement Function\n",
    "    _, enc_state=encoding_layer(input_data, rnn_size, num_layers, keep_prob,  source_sequence_length\n",
    "                   , source_vocab_size, enc_embedding_size)\n",
    "    \n",
    "    dec_input = process_decoder_input(target_data, target_vocab_to_int, batch_size)\n",
    "    \n",
    "    tr_dec_output, inf_dec_output=decoding_layer(dec_input, enc_state, target_sequence_length, max_target_sentence_length,\n",
    "                   rnn_size, num_layers, target_vocab_to_int, \n",
    "                   target_vocab_size, batch_size, keep_prob, dec_embedding_size)\n",
    "    \n",
    "    return tr_dec_output, inf_dec_output\n",
    "\n",
    "\n",
    "\"\"\"\n",
    "DON'T MODIFY ANYTHING IN THIS CELL THAT IS BELOW THIS LINE\n",
    "\"\"\"\n",
    "tests.test_seq2seq_model(seq2seq_model)"
   ]
  },
  {
   "cell_type": "markdown",
   "metadata": {},
   "source": [
    "## Neural Network Training\n",
    "### Hyperparameters\n",
    "Tune the following parameters:\n",
    "\n",
    "- Set `epochs` to the number of epochs.\n",
    "- Set `batch_size` to the batch size.\n",
    "- Set `rnn_size` to the size of the RNNs.\n",
    "- Set `num_layers` to the number of layers.\n",
    "- Set `encoding_embedding_size` to the size of the embedding for the encoder.\n",
    "- Set `decoding_embedding_size` to the size of the embedding for the decoder.\n",
    "- Set `learning_rate` to the learning rate.\n",
    "- Set `keep_probability` to the Dropout keep probability\n",
    "- Set `display_step` to state how many steps between each debug output statement"
   ]
  },
  {
   "cell_type": "code",
   "execution_count": 14,
   "metadata": {
    "collapsed": true
   },
   "outputs": [],
   "source": [
    "# Number of Epochs\n",
    "epochs = 5\n",
    "# Batch Size\n",
    "batch_size = 128\n",
    "# RNN Size\n",
    "rnn_size = 64\n",
    "# Number of Layers\n",
    "num_layers = 2\n",
    "# Embedding Size\n",
    "encoding_embedding_size =227\n",
    "decoding_embedding_size = 227\n",
    "# Learning Rate\n",
    "learning_rate = 0.005\n",
    "# Dropout Keep Probability\n",
    "keep_probability = 0.65\n",
    "display_step = 25"
   ]
  },
  {
   "cell_type": "markdown",
   "metadata": {},
   "source": [
    "### Build the Graph\n",
    "Build the graph using the neural network you implemented."
   ]
  },
  {
   "cell_type": "code",
   "execution_count": 15,
   "metadata": {
    "collapsed": true
   },
   "outputs": [],
   "source": [
    "\"\"\"\n",
    "DON'T MODIFY ANYTHING IN THIS CELL\n",
    "\"\"\"\n",
    "save_path = 'checkpoints/dev'\n",
    "(source_int_text, target_int_text), (source_vocab_to_int, target_vocab_to_int), _ = helper.load_preprocess()\n",
    "max_target_sentence_length = max([len(sentence) for sentence in source_int_text])\n",
    "\n",
    "train_graph = tf.Graph()\n",
    "with train_graph.as_default():\n",
    "    input_data, targets, lr, keep_prob, target_sequence_length, max_target_sequence_length, source_sequence_length = model_inputs()\n",
    "\n",
    "    #sequence_length = tf.placeholder_with_default(max_target_sentence_length, None, name='sequence_length')\n",
    "    input_shape = tf.shape(input_data)\n",
    "\n",
    "    train_logits, inference_logits = seq2seq_model(tf.reverse(input_data, [-1]),\n",
    "                                                   targets,\n",
    "                                                   keep_prob,\n",
    "                                                   batch_size,\n",
    "                                                   source_sequence_length,\n",
    "                                                   target_sequence_length,\n",
    "                                                   max_target_sequence_length,\n",
    "                                                   len(source_vocab_to_int),\n",
    "                                                   len(target_vocab_to_int),\n",
    "                                                   encoding_embedding_size,\n",
    "                                                   decoding_embedding_size,\n",
    "                                                   rnn_size,\n",
    "                                                   num_layers,\n",
    "                                                   target_vocab_to_int)\n",
    "\n",
    "\n",
    "    training_logits = tf.identity(train_logits.rnn_output, name='logits')\n",
    "    inference_logits = tf.identity(inference_logits.sample_id, name='predictions')\n",
    "\n",
    "    masks = tf.sequence_mask(target_sequence_length, max_target_sequence_length, dtype=tf.float32, name='masks')\n",
    "\n",
    "    with tf.name_scope(\"optimization\"):\n",
    "        # Loss function\n",
    "        cost = tf.contrib.seq2seq.sequence_loss(\n",
    "            training_logits,\n",
    "            targets,\n",
    "            masks)\n",
    "\n",
    "        # Optimizer\n",
    "        optimizer = tf.train.AdamOptimizer(lr)\n",
    "\n",
    "        # Gradient Clipping\n",
    "        gradients = optimizer.compute_gradients(cost)\n",
    "        capped_gradients = [(tf.clip_by_value(grad, -1., 1.), var) for grad, var in gradients if grad is not None]\n",
    "        train_op = optimizer.apply_gradients(capped_gradients)\n"
   ]
  },
  {
   "cell_type": "markdown",
   "metadata": {},
   "source": [
    "Batch and pad the source and target sequences"
   ]
  },
  {
   "cell_type": "code",
   "execution_count": 16,
   "metadata": {
    "collapsed": true
   },
   "outputs": [],
   "source": [
    "\"\"\"\n",
    "DON'T MODIFY ANYTHING IN THIS CELL\n",
    "\"\"\"\n",
    "def pad_sentence_batch(sentence_batch, pad_int):\n",
    "    \"\"\"Pad sentences with <PAD> so that each sentence of a batch has the same length\"\"\"\n",
    "    max_sentence = max([len(sentence) for sentence in sentence_batch])\n",
    "    return [sentence + [pad_int] * (max_sentence - len(sentence)) for sentence in sentence_batch]\n",
    "\n",
    "\n",
    "def get_batches(sources, targets, batch_size, source_pad_int, target_pad_int):\n",
    "    \"\"\"Batch targets, sources, and the lengths of their sentences together\"\"\"\n",
    "    for batch_i in range(0, len(sources)//batch_size):\n",
    "        start_i = batch_i * batch_size\n",
    "\n",
    "        # Slice the right amount for the batch\n",
    "        sources_batch = sources[start_i:start_i + batch_size]\n",
    "        targets_batch = targets[start_i:start_i + batch_size]\n",
    "\n",
    "        # Pad\n",
    "        pad_sources_batch = np.array(pad_sentence_batch(sources_batch, source_pad_int))\n",
    "        pad_targets_batch = np.array(pad_sentence_batch(targets_batch, target_pad_int))\n",
    "\n",
    "        # Need the lengths for the _lengths parameters\n",
    "        pad_targets_lengths = []\n",
    "        for target in pad_targets_batch:\n",
    "            pad_targets_lengths.append(len(target))\n",
    "\n",
    "        pad_source_lengths = []\n",
    "        for source in pad_sources_batch:\n",
    "            pad_source_lengths.append(len(source))\n",
    "\n",
    "        yield pad_sources_batch, pad_targets_batch, pad_source_lengths, pad_targets_lengths\n"
   ]
  },
  {
   "cell_type": "markdown",
   "metadata": {},
   "source": [
    "### Train\n",
    "Train the neural network on the preprocessed data. If you have a hard time getting a good loss, check the forms to see if anyone is having the same problem."
   ]
  },
  {
   "cell_type": "code",
   "execution_count": 17,
   "metadata": {
    "scrolled": true
   },
   "outputs": [
    {
     "name": "stdout",
     "output_type": "stream",
     "text": [
      "Epoch   0 Batch   25/1077 - Train Accuracy: 0.3117, Validation Accuracy: 0.3693, Loss: 3.1954\n",
      "Epoch   0 Batch   50/1077 - Train Accuracy: 0.3773, Validation Accuracy: 0.4411, Loss: 2.8573\n",
      "Epoch   0 Batch   75/1077 - Train Accuracy: 0.4207, Validation Accuracy: 0.4485, Loss: 2.5058\n",
      "Epoch   0 Batch  100/1077 - Train Accuracy: 0.4320, Validation Accuracy: 0.4695, Loss: 2.3628\n",
      "Epoch   0 Batch  125/1077 - Train Accuracy: 0.5030, Validation Accuracy: 0.5174, Loss: 2.0601\n",
      "Epoch   0 Batch  150/1077 - Train Accuracy: 0.5324, Validation Accuracy: 0.5334, Loss: 1.9619\n",
      "Epoch   0 Batch  175/1077 - Train Accuracy: 0.5270, Validation Accuracy: 0.5291, Loss: 1.8284\n",
      "Epoch   0 Batch  200/1077 - Train Accuracy: 0.5184, Validation Accuracy: 0.5511, Loss: 1.9059\n",
      "Epoch   0 Batch  225/1077 - Train Accuracy: 0.5184, Validation Accuracy: 0.5650, Loss: 1.8027\n",
      "Epoch   0 Batch  250/1077 - Train Accuracy: 0.5614, Validation Accuracy: 0.5604, Loss: 1.6128\n",
      "Epoch   0 Batch  275/1077 - Train Accuracy: 0.5733, Validation Accuracy: 0.5732, Loss: 1.6290\n",
      "Epoch   0 Batch  300/1077 - Train Accuracy: 0.5539, Validation Accuracy: 0.5593, Loss: 1.7439\n",
      "Epoch   0 Batch  325/1077 - Train Accuracy: 0.5733, Validation Accuracy: 0.5728, Loss: 1.5459\n",
      "Epoch   0 Batch  350/1077 - Train Accuracy: 0.5480, Validation Accuracy: 0.5884, Loss: 1.7241\n",
      "Epoch   0 Batch  375/1077 - Train Accuracy: 0.6033, Validation Accuracy: 0.5781, Loss: 1.4499\n",
      "Epoch   0 Batch  400/1077 - Train Accuracy: 0.5918, Validation Accuracy: 0.6048, Loss: 1.5485\n",
      "Epoch   0 Batch  425/1077 - Train Accuracy: 0.6220, Validation Accuracy: 0.6080, Loss: 1.3825\n",
      "Epoch   0 Batch  450/1077 - Train Accuracy: 0.6098, Validation Accuracy: 0.6129, Loss: 1.4218\n",
      "Epoch   0 Batch  475/1077 - Train Accuracy: 0.6383, Validation Accuracy: 0.6381, Loss: 1.3705\n",
      "Epoch   0 Batch  500/1077 - Train Accuracy: 0.6500, Validation Accuracy: 0.6413, Loss: 1.3196\n",
      "Epoch   0 Batch  525/1077 - Train Accuracy: 0.6039, Validation Accuracy: 0.6296, Loss: 1.3498\n",
      "Epoch   0 Batch  550/1077 - Train Accuracy: 0.5766, Validation Accuracy: 0.6115, Loss: 1.2715\n",
      "Epoch   0 Batch  575/1077 - Train Accuracy: 0.6179, Validation Accuracy: 0.6097, Loss: 1.0493\n",
      "Epoch   0 Batch  600/1077 - Train Accuracy: 0.6663, Validation Accuracy: 0.6442, Loss: 0.9258\n",
      "Epoch   0 Batch  625/1077 - Train Accuracy: 0.6504, Validation Accuracy: 0.6410, Loss: 0.8828\n",
      "Epoch   0 Batch  650/1077 - Train Accuracy: 0.6422, Validation Accuracy: 0.6282, Loss: 0.8081\n",
      "Epoch   0 Batch  675/1077 - Train Accuracy: 0.6786, Validation Accuracy: 0.6708, Loss: 0.7611\n",
      "Epoch   0 Batch  700/1077 - Train Accuracy: 0.6953, Validation Accuracy: 0.6737, Loss: 0.6765\n",
      "Epoch   0 Batch  725/1077 - Train Accuracy: 0.6931, Validation Accuracy: 0.6808, Loss: 0.6242\n",
      "Epoch   0 Batch  750/1077 - Train Accuracy: 0.6844, Validation Accuracy: 0.6747, Loss: 0.6225\n",
      "Epoch   0 Batch  775/1077 - Train Accuracy: 0.7031, Validation Accuracy: 0.6893, Loss: 0.6252\n",
      "Epoch   0 Batch  800/1077 - Train Accuracy: 0.6941, Validation Accuracy: 0.6886, Loss: 0.5997\n",
      "Epoch   0 Batch  825/1077 - Train Accuracy: 0.7223, Validation Accuracy: 0.7113, Loss: 0.5642\n",
      "Epoch   0 Batch  850/1077 - Train Accuracy: 0.7135, Validation Accuracy: 0.7021, Loss: 0.5811\n",
      "Epoch   0 Batch  875/1077 - Train Accuracy: 0.7359, Validation Accuracy: 0.7010, Loss: 0.5449\n",
      "Epoch   0 Batch  900/1077 - Train Accuracy: 0.7414, Validation Accuracy: 0.7156, Loss: 0.5367\n",
      "Epoch   0 Batch  925/1077 - Train Accuracy: 0.7351, Validation Accuracy: 0.6744, Loss: 0.4838\n",
      "Epoch   0 Batch  950/1077 - Train Accuracy: 0.7351, Validation Accuracy: 0.7010, Loss: 0.4746\n",
      "Epoch   0 Batch  975/1077 - Train Accuracy: 0.7582, Validation Accuracy: 0.7038, Loss: 0.4570\n",
      "Epoch   0 Batch 1000/1077 - Train Accuracy: 0.7321, Validation Accuracy: 0.7006, Loss: 0.4425\n",
      "Epoch   0 Batch 1025/1077 - Train Accuracy: 0.7228, Validation Accuracy: 0.7024, Loss: 0.4369\n",
      "Epoch   0 Batch 1050/1077 - Train Accuracy: 0.7289, Validation Accuracy: 0.7244, Loss: 0.4526\n",
      "Epoch   0 Batch 1075/1077 - Train Accuracy: 0.7595, Validation Accuracy: 0.7290, Loss: 0.4640\n",
      "Epoch   1 Batch   25/1077 - Train Accuracy: 0.7641, Validation Accuracy: 0.7276, Loss: 0.3987\n",
      "Epoch   1 Batch   50/1077 - Train Accuracy: 0.7770, Validation Accuracy: 0.7216, Loss: 0.4027\n",
      "Epoch   1 Batch   75/1077 - Train Accuracy: 0.7703, Validation Accuracy: 0.7330, Loss: 0.4086\n",
      "Epoch   1 Batch  100/1077 - Train Accuracy: 0.7754, Validation Accuracy: 0.7500, Loss: 0.3867\n",
      "Epoch   1 Batch  125/1077 - Train Accuracy: 0.7954, Validation Accuracy: 0.7692, Loss: 0.3628\n",
      "Epoch   1 Batch  150/1077 - Train Accuracy: 0.8043, Validation Accuracy: 0.7571, Loss: 0.3434\n",
      "Epoch   1 Batch  175/1077 - Train Accuracy: 0.8098, Validation Accuracy: 0.7521, Loss: 0.3333\n",
      "Epoch   1 Batch  200/1077 - Train Accuracy: 0.8121, Validation Accuracy: 0.7660, Loss: 0.3379\n",
      "Epoch   1 Batch  225/1077 - Train Accuracy: 0.8078, Validation Accuracy: 0.7805, Loss: 0.3190\n",
      "Epoch   1 Batch  250/1077 - Train Accuracy: 0.8210, Validation Accuracy: 0.7745, Loss: 0.2803\n",
      "Epoch   1 Batch  275/1077 - Train Accuracy: 0.8065, Validation Accuracy: 0.7770, Loss: 0.2798\n",
      "Epoch   1 Batch  300/1077 - Train Accuracy: 0.8331, Validation Accuracy: 0.7837, Loss: 0.2966\n",
      "Epoch   1 Batch  325/1077 - Train Accuracy: 0.8281, Validation Accuracy: 0.7859, Loss: 0.2648\n",
      "Epoch   1 Batch  350/1077 - Train Accuracy: 0.8035, Validation Accuracy: 0.7841, Loss: 0.2874\n",
      "Epoch   1 Batch  375/1077 - Train Accuracy: 0.8505, Validation Accuracy: 0.8107, Loss: 0.2584\n",
      "Epoch   1 Batch  400/1077 - Train Accuracy: 0.8359, Validation Accuracy: 0.8082, Loss: 0.2731\n",
      "Epoch   1 Batch  425/1077 - Train Accuracy: 0.8411, Validation Accuracy: 0.8200, Loss: 0.2217\n",
      "Epoch   1 Batch  450/1077 - Train Accuracy: 0.8410, Validation Accuracy: 0.8168, Loss: 0.2455\n",
      "Epoch   1 Batch  475/1077 - Train Accuracy: 0.8473, Validation Accuracy: 0.8228, Loss: 0.2276\n",
      "Epoch   1 Batch  500/1077 - Train Accuracy: 0.8605, Validation Accuracy: 0.8260, Loss: 0.2144\n",
      "Epoch   1 Batch  525/1077 - Train Accuracy: 0.8402, Validation Accuracy: 0.8260, Loss: 0.2266\n",
      "Epoch   1 Batch  550/1077 - Train Accuracy: 0.8363, Validation Accuracy: 0.8249, Loss: 0.2257\n",
      "Epoch   1 Batch  575/1077 - Train Accuracy: 0.8478, Validation Accuracy: 0.8207, Loss: 0.1932\n",
      "Epoch   1 Batch  600/1077 - Train Accuracy: 0.8464, Validation Accuracy: 0.8352, Loss: 0.2005\n",
      "Epoch   1 Batch  625/1077 - Train Accuracy: 0.8906, Validation Accuracy: 0.8516, Loss: 0.2027\n",
      "Epoch   1 Batch  650/1077 - Train Accuracy: 0.8777, Validation Accuracy: 0.8580, Loss: 0.1955\n",
      "Epoch   1 Batch  675/1077 - Train Accuracy: 0.8601, Validation Accuracy: 0.8516, Loss: 0.2058\n",
      "Epoch   1 Batch  700/1077 - Train Accuracy: 0.8895, Validation Accuracy: 0.8342, Loss: 0.1696\n",
      "Epoch   1 Batch  725/1077 - Train Accuracy: 0.8668, Validation Accuracy: 0.8558, Loss: 0.1543\n",
      "Epoch   1 Batch  750/1077 - Train Accuracy: 0.8914, Validation Accuracy: 0.8636, Loss: 0.1599\n",
      "Epoch   1 Batch  775/1077 - Train Accuracy: 0.8785, Validation Accuracy: 0.8540, Loss: 0.1708\n",
      "Epoch   1 Batch  800/1077 - Train Accuracy: 0.8902, Validation Accuracy: 0.8629, Loss: 0.1693\n",
      "Epoch   1 Batch  825/1077 - Train Accuracy: 0.8902, Validation Accuracy: 0.8587, Loss: 0.1641\n",
      "Epoch   1 Batch  850/1077 - Train Accuracy: 0.8620, Validation Accuracy: 0.8814, Loss: 0.1728\n",
      "Epoch   1 Batch  875/1077 - Train Accuracy: 0.8895, Validation Accuracy: 0.8675, Loss: 0.1563\n",
      "Epoch   1 Batch  900/1077 - Train Accuracy: 0.9070, Validation Accuracy: 0.8668, Loss: 0.1612\n",
      "Epoch   1 Batch  925/1077 - Train Accuracy: 0.8914, Validation Accuracy: 0.8540, Loss: 0.1377\n",
      "Epoch   1 Batch  950/1077 - Train Accuracy: 0.8702, Validation Accuracy: 0.8459, Loss: 0.1456\n",
      "Epoch   1 Batch  975/1077 - Train Accuracy: 0.8969, Validation Accuracy: 0.8761, Loss: 0.1312\n",
      "Epoch   1 Batch 1000/1077 - Train Accuracy: 0.8843, Validation Accuracy: 0.8842, Loss: 0.1255\n",
      "Epoch   1 Batch 1025/1077 - Train Accuracy: 0.8679, Validation Accuracy: 0.8722, Loss: 0.1300\n",
      "Epoch   1 Batch 1050/1077 - Train Accuracy: 0.8926, Validation Accuracy: 0.8888, Loss: 0.1301\n",
      "Epoch   1 Batch 1075/1077 - Train Accuracy: 0.8845, Validation Accuracy: 0.8665, Loss: 0.1514\n",
      "Epoch   2 Batch   25/1077 - Train Accuracy: 0.9215, Validation Accuracy: 0.8789, Loss: 0.1134\n",
      "Epoch   2 Batch   50/1077 - Train Accuracy: 0.9051, Validation Accuracy: 0.8725, Loss: 0.1229\n"
     ]
    },
    {
     "name": "stdout",
     "output_type": "stream",
     "text": [
      "Epoch   2 Batch   75/1077 - Train Accuracy: 0.8984, Validation Accuracy: 0.8928, Loss: 0.1328\n",
      "Epoch   2 Batch  100/1077 - Train Accuracy: 0.9094, Validation Accuracy: 0.8817, Loss: 0.1227\n",
      "Epoch   2 Batch  125/1077 - Train Accuracy: 0.8891, Validation Accuracy: 0.8679, Loss: 0.1226\n",
      "Epoch   2 Batch  150/1077 - Train Accuracy: 0.9077, Validation Accuracy: 0.8743, Loss: 0.1177\n",
      "Epoch   2 Batch  175/1077 - Train Accuracy: 0.8949, Validation Accuracy: 0.8640, Loss: 0.1129\n",
      "Epoch   2 Batch  200/1077 - Train Accuracy: 0.8883, Validation Accuracy: 0.8860, Loss: 0.1099\n",
      "Epoch   2 Batch  225/1077 - Train Accuracy: 0.9211, Validation Accuracy: 0.8782, Loss: 0.1116\n",
      "Epoch   2 Batch  250/1077 - Train Accuracy: 0.9137, Validation Accuracy: 0.8999, Loss: 0.0999\n",
      "Epoch   2 Batch  275/1077 - Train Accuracy: 0.9044, Validation Accuracy: 0.8835, Loss: 0.1023\n",
      "Epoch   2 Batch  300/1077 - Train Accuracy: 0.9141, Validation Accuracy: 0.8643, Loss: 0.1089\n",
      "Epoch   2 Batch  325/1077 - Train Accuracy: 0.9204, Validation Accuracy: 0.8888, Loss: 0.0951\n",
      "Epoch   2 Batch  350/1077 - Train Accuracy: 0.9223, Validation Accuracy: 0.9073, Loss: 0.1024\n",
      "Epoch   2 Batch  375/1077 - Train Accuracy: 0.9219, Validation Accuracy: 0.8988, Loss: 0.0944\n",
      "Epoch   2 Batch  400/1077 - Train Accuracy: 0.9219, Validation Accuracy: 0.9134, Loss: 0.1074\n",
      "Epoch   2 Batch  425/1077 - Train Accuracy: 0.9092, Validation Accuracy: 0.8924, Loss: 0.0850\n",
      "Epoch   2 Batch  450/1077 - Train Accuracy: 0.9227, Validation Accuracy: 0.8913, Loss: 0.0949\n",
      "Epoch   2 Batch  475/1077 - Train Accuracy: 0.9258, Validation Accuracy: 0.9016, Loss: 0.0809\n",
      "Epoch   2 Batch  500/1077 - Train Accuracy: 0.9152, Validation Accuracy: 0.9112, Loss: 0.0764\n",
      "Epoch   2 Batch  525/1077 - Train Accuracy: 0.9141, Validation Accuracy: 0.8888, Loss: 0.0923\n",
      "Epoch   2 Batch  550/1077 - Train Accuracy: 0.8953, Validation Accuracy: 0.9041, Loss: 0.0874\n",
      "Epoch   2 Batch  575/1077 - Train Accuracy: 0.9338, Validation Accuracy: 0.9041, Loss: 0.0747\n",
      "Epoch   2 Batch  600/1077 - Train Accuracy: 0.8906, Validation Accuracy: 0.8896, Loss: 0.0977\n",
      "Epoch   2 Batch  625/1077 - Train Accuracy: 0.9211, Validation Accuracy: 0.9013, Loss: 0.0859\n",
      "Epoch   2 Batch  650/1077 - Train Accuracy: 0.9277, Validation Accuracy: 0.9123, Loss: 0.0882\n",
      "Epoch   2 Batch  675/1077 - Train Accuracy: 0.9070, Validation Accuracy: 0.9165, Loss: 0.0943\n",
      "Epoch   2 Batch  700/1077 - Train Accuracy: 0.9559, Validation Accuracy: 0.9205, Loss: 0.0655\n",
      "Epoch   2 Batch  725/1077 - Train Accuracy: 0.9204, Validation Accuracy: 0.9279, Loss: 0.0707\n",
      "Epoch   2 Batch  750/1077 - Train Accuracy: 0.9340, Validation Accuracy: 0.9212, Loss: 0.0738\n",
      "Epoch   2 Batch  775/1077 - Train Accuracy: 0.9094, Validation Accuracy: 0.9304, Loss: 0.0825\n",
      "Epoch   2 Batch  800/1077 - Train Accuracy: 0.9348, Validation Accuracy: 0.9286, Loss: 0.0763\n",
      "Epoch   2 Batch  825/1077 - Train Accuracy: 0.9566, Validation Accuracy: 0.9148, Loss: 0.0646\n",
      "Epoch   2 Batch  850/1077 - Train Accuracy: 0.9115, Validation Accuracy: 0.9361, Loss: 0.0995\n",
      "Epoch   2 Batch  875/1077 - Train Accuracy: 0.9348, Validation Accuracy: 0.9112, Loss: 0.0739\n",
      "Epoch   2 Batch  900/1077 - Train Accuracy: 0.9336, Validation Accuracy: 0.9155, Loss: 0.0800\n",
      "Epoch   2 Batch  925/1077 - Train Accuracy: 0.9483, Validation Accuracy: 0.9038, Loss: 0.0594\n",
      "Epoch   2 Batch  950/1077 - Train Accuracy: 0.9293, Validation Accuracy: 0.9244, Loss: 0.0651\n",
      "Epoch   2 Batch  975/1077 - Train Accuracy: 0.9330, Validation Accuracy: 0.9272, Loss: 0.0685\n",
      "Epoch   2 Batch 1000/1077 - Train Accuracy: 0.9044, Validation Accuracy: 0.9268, Loss: 0.0623\n",
      "Epoch   2 Batch 1025/1077 - Train Accuracy: 0.9159, Validation Accuracy: 0.9450, Loss: 0.0688\n",
      "Epoch   2 Batch 1050/1077 - Train Accuracy: 0.9371, Validation Accuracy: 0.9094, Loss: 0.0621\n",
      "Epoch   2 Batch 1075/1077 - Train Accuracy: 0.9178, Validation Accuracy: 0.9141, Loss: 0.0771\n",
      "Epoch   3 Batch   25/1077 - Train Accuracy: 0.9531, Validation Accuracy: 0.9045, Loss: 0.0557\n",
      "Epoch   3 Batch   50/1077 - Train Accuracy: 0.9496, Validation Accuracy: 0.9308, Loss: 0.0629\n",
      "Epoch   3 Batch   75/1077 - Train Accuracy: 0.9309, Validation Accuracy: 0.9393, Loss: 0.0726\n",
      "Epoch   3 Batch  100/1077 - Train Accuracy: 0.9387, Validation Accuracy: 0.9251, Loss: 0.0604\n",
      "Epoch   3 Batch  125/1077 - Train Accuracy: 0.9029, Validation Accuracy: 0.9027, Loss: 0.0795\n",
      "Epoch   3 Batch  150/1077 - Train Accuracy: 0.9379, Validation Accuracy: 0.9212, Loss: 0.0676\n",
      "Epoch   3 Batch  175/1077 - Train Accuracy: 0.9266, Validation Accuracy: 0.9219, Loss: 0.0699\n",
      "Epoch   3 Batch  200/1077 - Train Accuracy: 0.9250, Validation Accuracy: 0.9151, Loss: 0.0620\n",
      "Epoch   3 Batch  225/1077 - Train Accuracy: 0.9250, Validation Accuracy: 0.9080, Loss: 0.0664\n",
      "Epoch   3 Batch  250/1077 - Train Accuracy: 0.9400, Validation Accuracy: 0.9325, Loss: 0.0564\n",
      "Epoch   3 Batch  275/1077 - Train Accuracy: 0.9394, Validation Accuracy: 0.9126, Loss: 0.0584\n",
      "Epoch   3 Batch  300/1077 - Train Accuracy: 0.9572, Validation Accuracy: 0.9091, Loss: 0.0556\n",
      "Epoch   3 Batch  325/1077 - Train Accuracy: 0.9513, Validation Accuracy: 0.9268, Loss: 0.0531\n",
      "Epoch   3 Batch  350/1077 - Train Accuracy: 0.9508, Validation Accuracy: 0.9205, Loss: 0.0540\n",
      "Epoch   3 Batch  375/1077 - Train Accuracy: 0.9506, Validation Accuracy: 0.9300, Loss: 0.0540\n",
      "Epoch   3 Batch  400/1077 - Train Accuracy: 0.9461, Validation Accuracy: 0.9361, Loss: 0.0672\n",
      "Epoch   3 Batch  425/1077 - Train Accuracy: 0.9446, Validation Accuracy: 0.9251, Loss: 0.0529\n",
      "Epoch   3 Batch  450/1077 - Train Accuracy: 0.9332, Validation Accuracy: 0.9393, Loss: 0.0591\n",
      "Epoch   3 Batch  475/1077 - Train Accuracy: 0.9383, Validation Accuracy: 0.9169, Loss: 0.0479\n",
      "Epoch   3 Batch  500/1077 - Train Accuracy: 0.9324, Validation Accuracy: 0.9244, Loss: 0.0442\n",
      "Epoch   3 Batch  525/1077 - Train Accuracy: 0.9441, Validation Accuracy: 0.9286, Loss: 0.0554\n",
      "Epoch   3 Batch  550/1077 - Train Accuracy: 0.9238, Validation Accuracy: 0.9336, Loss: 0.0461\n",
      "Epoch   3 Batch  575/1077 - Train Accuracy: 0.9528, Validation Accuracy: 0.9396, Loss: 0.0429\n",
      "Epoch   3 Batch  600/1077 - Train Accuracy: 0.9286, Validation Accuracy: 0.9368, Loss: 0.0595\n",
      "Epoch   3 Batch  625/1077 - Train Accuracy: 0.9531, Validation Accuracy: 0.9279, Loss: 0.0444\n",
      "Epoch   3 Batch  650/1077 - Train Accuracy: 0.9578, Validation Accuracy: 0.9379, Loss: 0.0569\n",
      "Epoch   3 Batch  675/1077 - Train Accuracy: 0.9327, Validation Accuracy: 0.9350, Loss: 0.0568\n",
      "Epoch   3 Batch  700/1077 - Train Accuracy: 0.9555, Validation Accuracy: 0.9435, Loss: 0.0418\n",
      "Epoch   3 Batch  725/1077 - Train Accuracy: 0.9520, Validation Accuracy: 0.9442, Loss: 0.0402\n",
      "Epoch   3 Batch  750/1077 - Train Accuracy: 0.9387, Validation Accuracy: 0.9474, Loss: 0.0486\n",
      "Epoch   3 Batch  775/1077 - Train Accuracy: 0.9273, Validation Accuracy: 0.9411, Loss: 0.0507\n",
      "Epoch   3 Batch  800/1077 - Train Accuracy: 0.9551, Validation Accuracy: 0.9503, Loss: 0.0461\n",
      "Epoch   3 Batch  825/1077 - Train Accuracy: 0.9730, Validation Accuracy: 0.9471, Loss: 0.0385\n",
      "Epoch   3 Batch  850/1077 - Train Accuracy: 0.9394, Validation Accuracy: 0.9538, Loss: 0.0665\n",
      "Epoch   3 Batch  875/1077 - Train Accuracy: 0.9563, Validation Accuracy: 0.9332, Loss: 0.0506\n",
      "Epoch   3 Batch  900/1077 - Train Accuracy: 0.9559, Validation Accuracy: 0.9357, Loss: 0.0505\n",
      "Epoch   3 Batch  925/1077 - Train Accuracy: 0.9594, Validation Accuracy: 0.9474, Loss: 0.0396\n",
      "Epoch   3 Batch  950/1077 - Train Accuracy: 0.9717, Validation Accuracy: 0.9403, Loss: 0.0366\n",
      "Epoch   3 Batch  975/1077 - Train Accuracy: 0.9591, Validation Accuracy: 0.9517, Loss: 0.0441\n",
      "Epoch   3 Batch 1000/1077 - Train Accuracy: 0.9390, Validation Accuracy: 0.9460, Loss: 0.0404\n",
      "Epoch   3 Batch 1025/1077 - Train Accuracy: 0.9483, Validation Accuracy: 0.9460, Loss: 0.0423\n",
      "Epoch   3 Batch 1050/1077 - Train Accuracy: 0.9621, Validation Accuracy: 0.9414, Loss: 0.0429\n",
      "Epoch   3 Batch 1075/1077 - Train Accuracy: 0.9276, Validation Accuracy: 0.9361, Loss: 0.0535\n",
      "Epoch   4 Batch   25/1077 - Train Accuracy: 0.9715, Validation Accuracy: 0.9268, Loss: 0.0384\n",
      "Epoch   4 Batch   50/1077 - Train Accuracy: 0.9629, Validation Accuracy: 0.9364, Loss: 0.0483\n",
      "Epoch   4 Batch   75/1077 - Train Accuracy: 0.9523, Validation Accuracy: 0.9457, Loss: 0.0501\n",
      "Epoch   4 Batch  100/1077 - Train Accuracy: 0.9469, Validation Accuracy: 0.9521, Loss: 0.0409\n"
     ]
    },
    {
     "name": "stdout",
     "output_type": "stream",
     "text": [
      "Epoch   4 Batch  125/1077 - Train Accuracy: 0.9278, Validation Accuracy: 0.9290, Loss: 0.0574\n",
      "Epoch   4 Batch  150/1077 - Train Accuracy: 0.9457, Validation Accuracy: 0.9268, Loss: 0.0477\n",
      "Epoch   4 Batch  175/1077 - Train Accuracy: 0.9477, Validation Accuracy: 0.9496, Loss: 0.0505\n",
      "Epoch   4 Batch  200/1077 - Train Accuracy: 0.9578, Validation Accuracy: 0.9453, Loss: 0.0402\n",
      "Epoch   4 Batch  225/1077 - Train Accuracy: 0.9391, Validation Accuracy: 0.9364, Loss: 0.0491\n",
      "Epoch   4 Batch  250/1077 - Train Accuracy: 0.9553, Validation Accuracy: 0.9531, Loss: 0.0401\n",
      "Epoch   4 Batch  275/1077 - Train Accuracy: 0.9602, Validation Accuracy: 0.9297, Loss: 0.0419\n",
      "Epoch   4 Batch  300/1077 - Train Accuracy: 0.9646, Validation Accuracy: 0.9237, Loss: 0.0418\n",
      "Epoch   4 Batch  325/1077 - Train Accuracy: 0.9710, Validation Accuracy: 0.9421, Loss: 0.0367\n",
      "Epoch   4 Batch  350/1077 - Train Accuracy: 0.9629, Validation Accuracy: 0.9215, Loss: 0.0417\n",
      "Epoch   4 Batch  375/1077 - Train Accuracy: 0.9592, Validation Accuracy: 0.9311, Loss: 0.0421\n",
      "Epoch   4 Batch  400/1077 - Train Accuracy: 0.9477, Validation Accuracy: 0.9425, Loss: 0.0515\n",
      "Epoch   4 Batch  425/1077 - Train Accuracy: 0.9665, Validation Accuracy: 0.9524, Loss: 0.0323\n",
      "Epoch   4 Batch  450/1077 - Train Accuracy: 0.9547, Validation Accuracy: 0.9332, Loss: 0.0485\n",
      "Epoch   4 Batch  475/1077 - Train Accuracy: 0.9543, Validation Accuracy: 0.9485, Loss: 0.0383\n",
      "Epoch   4 Batch  500/1077 - Train Accuracy: 0.9629, Validation Accuracy: 0.9354, Loss: 0.0297\n",
      "Epoch   4 Batch  525/1077 - Train Accuracy: 0.9598, Validation Accuracy: 0.9421, Loss: 0.0387\n",
      "Epoch   4 Batch  550/1077 - Train Accuracy: 0.9520, Validation Accuracy: 0.9492, Loss: 0.0350\n",
      "Epoch   4 Batch  575/1077 - Train Accuracy: 0.9628, Validation Accuracy: 0.9652, Loss: 0.0304\n",
      "Epoch   4 Batch  600/1077 - Train Accuracy: 0.9416, Validation Accuracy: 0.9549, Loss: 0.0429\n",
      "Epoch   4 Batch  625/1077 - Train Accuracy: 0.9715, Validation Accuracy: 0.9585, Loss: 0.0325\n",
      "Epoch   4 Batch  650/1077 - Train Accuracy: 0.9715, Validation Accuracy: 0.9567, Loss: 0.0414\n",
      "Epoch   4 Batch  675/1077 - Train Accuracy: 0.9501, Validation Accuracy: 0.9283, Loss: 0.0402\n",
      "Epoch   4 Batch  700/1077 - Train Accuracy: 0.9656, Validation Accuracy: 0.9315, Loss: 0.0323\n",
      "Epoch   4 Batch  725/1077 - Train Accuracy: 0.9472, Validation Accuracy: 0.9354, Loss: 0.0310\n",
      "Epoch   4 Batch  750/1077 - Train Accuracy: 0.9523, Validation Accuracy: 0.9439, Loss: 0.0330\n",
      "Epoch   4 Batch  775/1077 - Train Accuracy: 0.9461, Validation Accuracy: 0.9553, Loss: 0.0334\n",
      "Epoch   4 Batch  800/1077 - Train Accuracy: 0.9734, Validation Accuracy: 0.9517, Loss: 0.0349\n",
      "Epoch   4 Batch  825/1077 - Train Accuracy: 0.9586, Validation Accuracy: 0.9492, Loss: 0.0287\n",
      "Epoch   4 Batch  850/1077 - Train Accuracy: 0.9401, Validation Accuracy: 0.9553, Loss: 0.0509\n",
      "Epoch   4 Batch  875/1077 - Train Accuracy: 0.9664, Validation Accuracy: 0.9524, Loss: 0.0329\n",
      "Epoch   4 Batch  900/1077 - Train Accuracy: 0.9609, Validation Accuracy: 0.9435, Loss: 0.0414\n",
      "Epoch   4 Batch  925/1077 - Train Accuracy: 0.9580, Validation Accuracy: 0.9545, Loss: 0.0325\n",
      "Epoch   4 Batch  950/1077 - Train Accuracy: 0.9647, Validation Accuracy: 0.9528, Loss: 0.0291\n",
      "Epoch   4 Batch  975/1077 - Train Accuracy: 0.9721, Validation Accuracy: 0.9709, Loss: 0.0318\n",
      "Epoch   4 Batch 1000/1077 - Train Accuracy: 0.9408, Validation Accuracy: 0.9648, Loss: 0.0314\n",
      "Epoch   4 Batch 1025/1077 - Train Accuracy: 0.9576, Validation Accuracy: 0.9634, Loss: 0.0303\n",
      "Epoch   4 Batch 1050/1077 - Train Accuracy: 0.9656, Validation Accuracy: 0.9545, Loss: 0.0295\n",
      "Epoch   4 Batch 1075/1077 - Train Accuracy: 0.9552, Validation Accuracy: 0.9499, Loss: 0.0377\n",
      "Model Trained and Saved\n"
     ]
    }
   ],
   "source": [
    "\"\"\"\n",
    "DON'T MODIFY ANYTHING IN THIS CELL\n",
    "\"\"\"\n",
    "def get_accuracy(target, logits):\n",
    "    \"\"\"\n",
    "    Calculate accuracy\n",
    "    \"\"\"\n",
    "    max_seq = max(target.shape[1], logits.shape[1])\n",
    "    if max_seq - target.shape[1]:\n",
    "        target = np.pad(\n",
    "            target,\n",
    "            [(0,0),(0,max_seq - target.shape[1])],\n",
    "            'constant')\n",
    "    if max_seq - logits.shape[1]:\n",
    "        logits = np.pad(\n",
    "            logits,\n",
    "            [(0,0),(0,max_seq - logits.shape[1])],\n",
    "            'constant')\n",
    "\n",
    "    return np.mean(np.equal(target, logits))\n",
    "\n",
    "# Split data to training and validation sets\n",
    "train_source = source_int_text[batch_size:]\n",
    "train_target = target_int_text[batch_size:]\n",
    "valid_source = source_int_text[:batch_size]\n",
    "valid_target = target_int_text[:batch_size]\n",
    "(valid_sources_batch, valid_targets_batch, valid_sources_lengths, valid_targets_lengths ) = next(get_batches(valid_source,\n",
    "                                                                                                             valid_target,\n",
    "                                                                                                             batch_size,\n",
    "                                                                                                             source_vocab_to_int['<PAD>'],\n",
    "                                                                                                             target_vocab_to_int['<PAD>']))                                                                                                  \n",
    "with tf.Session(graph=train_graph) as sess:\n",
    "    sess.run(tf.global_variables_initializer())\n",
    "\n",
    "    for epoch_i in range(epochs):\n",
    "        for batch_i, (source_batch, target_batch, sources_lengths, targets_lengths) in enumerate(\n",
    "                get_batches(train_source, train_target, batch_size,\n",
    "                            source_vocab_to_int['<PAD>'],\n",
    "                            target_vocab_to_int['<PAD>'])):\n",
    "\n",
    "            _, loss = sess.run(\n",
    "                [train_op, cost],\n",
    "                {input_data: source_batch,\n",
    "                 targets: target_batch,\n",
    "                 lr: learning_rate,\n",
    "                 target_sequence_length: targets_lengths,\n",
    "                 source_sequence_length: sources_lengths,\n",
    "                 keep_prob: keep_probability})\n",
    "\n",
    "\n",
    "            if batch_i % display_step == 0 and batch_i > 0:\n",
    "\n",
    "\n",
    "                batch_train_logits = sess.run(\n",
    "                    inference_logits,\n",
    "                    {input_data: source_batch,\n",
    "                     source_sequence_length: sources_lengths,\n",
    "                     target_sequence_length: targets_lengths,\n",
    "                     keep_prob: 1.0})\n",
    "\n",
    "\n",
    "                batch_valid_logits = sess.run(\n",
    "                    inference_logits,\n",
    "                    {input_data: valid_sources_batch,\n",
    "                     source_sequence_length: valid_sources_lengths,\n",
    "                     target_sequence_length: valid_targets_lengths,\n",
    "                     keep_prob: 1.0})\n",
    "\n",
    "                train_acc = get_accuracy(target_batch, batch_train_logits)\n",
    "\n",
    "                valid_acc = get_accuracy(valid_targets_batch, batch_valid_logits)\n",
    "\n",
    "                print('Epoch {:>3} Batch {:>4}/{} - Train Accuracy: {:>6.4f}, Validation Accuracy: {:>6.4f}, Loss: {:>6.4f}'\n",
    "                      .format(epoch_i, batch_i, len(source_int_text) // batch_size, train_acc, valid_acc, loss))\n",
    "\n",
    "    # Save Model\n",
    "    saver = tf.train.Saver()\n",
    "    saver.save(sess, save_path)\n",
    "    print('Model Trained and Saved')"
   ]
  },
  {
   "cell_type": "markdown",
   "metadata": {},
   "source": [
    "### Save Parameters\n",
    "Save the `batch_size` and `save_path` parameters for inference."
   ]
  },
  {
   "cell_type": "code",
   "execution_count": 18,
   "metadata": {
    "collapsed": true
   },
   "outputs": [],
   "source": [
    "\"\"\"\n",
    "DON'T MODIFY ANYTHING IN THIS CELL\n",
    "\"\"\"\n",
    "# Save parameters for checkpoint\n",
    "helper.save_params(save_path)"
   ]
  },
  {
   "cell_type": "markdown",
   "metadata": {},
   "source": [
    "# Checkpoint"
   ]
  },
  {
   "cell_type": "code",
   "execution_count": 19,
   "metadata": {
    "collapsed": true
   },
   "outputs": [],
   "source": [
    "\"\"\"\n",
    "DON'T MODIFY ANYTHING IN THIS CELL\n",
    "\"\"\"\n",
    "import tensorflow as tf\n",
    "import numpy as np\n",
    "import helper\n",
    "import problem_unittests as tests\n",
    "\n",
    "_, (source_vocab_to_int, target_vocab_to_int), (source_int_to_vocab, target_int_to_vocab) = helper.load_preprocess()\n",
    "load_path = helper.load_params()"
   ]
  },
  {
   "cell_type": "markdown",
   "metadata": {},
   "source": [
    "## Sentence to Sequence\n",
    "To feed a sentence into the model for translation, you first need to preprocess it.  Implement the function `sentence_to_seq()` to preprocess new sentences.\n",
    "\n",
    "- Convert the sentence to lowercase\n",
    "- Convert words into ids using `vocab_to_int`\n",
    " - Convert words not in the vocabulary, to the `<UNK>` word id."
   ]
  },
  {
   "cell_type": "code",
   "execution_count": 20,
   "metadata": {},
   "outputs": [
    {
     "name": "stdout",
     "output_type": "stream",
     "text": [
      "Tests Passed\n"
     ]
    }
   ],
   "source": [
    "def sentence_to_seq(sentence, vocab_to_int):\n",
    "    \"\"\"\n",
    "    Convert a sentence to a sequence of ids\n",
    "    :param sentence: String\n",
    "    :param vocab_to_int: Dictionary to go from the words to an id\n",
    "    :return: List of word ids\n",
    "    \"\"\"\n",
    "    # TODO: Implement Function\n",
    "    unk = vocab_to_int['<UNK>']\n",
    "    lower_unk=[vocab_to_int.get(word, unk) for word in sentence.lower().split()]\n",
    "    return lower_unk\n",
    "\n",
    "\n",
    "\"\"\"\n",
    "DON'T MODIFY ANYTHING IN THIS CELL THAT IS BELOW THIS LINE\n",
    "\"\"\"\n",
    "tests.test_sentence_to_seq(sentence_to_seq)"
   ]
  },
  {
   "cell_type": "markdown",
   "metadata": {},
   "source": [
    "## Translate\n",
    "This will translate `translate_sentence` from English to French."
   ]
  },
  {
   "cell_type": "code",
   "execution_count": 21,
   "metadata": {},
   "outputs": [
    {
     "name": "stdout",
     "output_type": "stream",
     "text": [
      "INFO:tensorflow:Restoring parameters from checkpoints/dev\n",
      "Input\n",
      "  Word Ids:      [167, 70, 142, 118, 211, 172, 55]\n",
      "  English Words: ['he', 'saw', 'a', 'old', 'yellow', 'truck', '.']\n",
      "\n",
      "Prediction\n",
      "  Word Ids:      [309, 163, 160, 354, 253, 17, 1]\n",
      "  French Words: il a vu un février . <EOS>\n"
     ]
    }
   ],
   "source": [
    "translate_sentence = 'he saw a old yellow truck .'\n",
    "\n",
    "\n",
    "\"\"\"\n",
    "DON'T MODIFY ANYTHING IN THIS CELL\n",
    "\"\"\"\n",
    "translate_sentence = sentence_to_seq(translate_sentence, source_vocab_to_int)\n",
    "\n",
    "loaded_graph = tf.Graph()\n",
    "with tf.Session(graph=loaded_graph) as sess:\n",
    "    # Load saved model\n",
    "    loader = tf.train.import_meta_graph(load_path + '.meta')\n",
    "    loader.restore(sess, load_path)\n",
    "\n",
    "    input_data = loaded_graph.get_tensor_by_name('input:0')\n",
    "    logits = loaded_graph.get_tensor_by_name('predictions:0')\n",
    "    target_sequence_length = loaded_graph.get_tensor_by_name('target_sequence_length:0')\n",
    "    source_sequence_length = loaded_graph.get_tensor_by_name('source_sequence_length:0')\n",
    "    keep_prob = loaded_graph.get_tensor_by_name('keep_prob:0')\n",
    "\n",
    "    translate_logits = sess.run(logits, {input_data: [translate_sentence]*batch_size,\n",
    "                                         target_sequence_length: [len(translate_sentence)*2]*batch_size,\n",
    "                                         source_sequence_length: [len(translate_sentence)]*batch_size,\n",
    "                                         keep_prob: 1.0})[0]\n",
    "\n",
    "print('Input')\n",
    "print('  Word Ids:      {}'.format([i for i in translate_sentence]))\n",
    "print('  English Words: {}'.format([source_int_to_vocab[i] for i in translate_sentence]))\n",
    "\n",
    "print('\\nPrediction')\n",
    "print('  Word Ids:      {}'.format([i for i in translate_logits]))\n",
    "print('  French Words: {}'.format(\" \".join([target_int_to_vocab[i] for i in translate_logits])))\n"
   ]
  },
  {
   "cell_type": "markdown",
   "metadata": {},
   "source": [
    "## Imperfect Translation\n",
    "You might notice that some sentences translate better than others.  Since the dataset you're using only has a vocabulary of 227 English words of the thousands that you use, you're only going to see good results using these words.  For this project, you don't need a perfect translation. However, if you want to create a better translation model, you'll need better data.\n",
    "\n",
    "You can train on the [WMT10 French-English corpus](http://www.statmt.org/wmt10/training-giga-fren.tar).  This dataset has more vocabulary and richer in topics discussed.  However, this will take you days to train, so make sure you've a GPU and the neural network is performing well on dataset we provided.  Just make sure you play with the WMT10 corpus after you've submitted this project.\n",
    "## Submitting This Project\n",
    "When submitting this project, make sure to run all the cells before saving the notebook. Save the notebook file as \"dlnd_language_translation.ipynb\" and save it as a HTML file under \"File\" -> \"Download as\". Include the \"helper.py\" and \"problem_unittests.py\" files in your submission."
   ]
  },
  {
   "cell_type": "code",
   "execution_count": null,
   "metadata": {
    "collapsed": true
   },
   "outputs": [],
   "source": []
  }
 ],
 "metadata": {
  "anaconda-cloud": {},
  "kernelspec": {
   "display_name": "Python 3",
   "language": "python",
   "name": "python3"
  },
  "language_info": {
   "codemirror_mode": {
    "name": "ipython",
    "version": 3
   },
   "file_extension": ".py",
   "mimetype": "text/x-python",
   "name": "python",
   "nbconvert_exporter": "python",
   "pygments_lexer": "ipython3",
   "version": "3.6.0"
  }
 },
 "nbformat": 4,
 "nbformat_minor": 1
}
